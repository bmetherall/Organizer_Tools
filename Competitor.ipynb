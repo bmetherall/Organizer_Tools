{
 "cells": [
  {
   "cell_type": "code",
   "execution_count": 36,
   "metadata": {
    "collapsed": true
   },
   "outputs": [],
   "source": [
    "from __future__ import print_function\n",
    "import requests\n",
    "import numpy as np\n",
    "import random"
   ]
  },
  {
   "cell_type": "code",
   "execution_count": 2,
   "metadata": {
    "collapsed": true
   },
   "outputs": [],
   "source": [
    "def get_ans():\n",
    "\t'''Asks user for input. If the user types yes true is returned'''\n",
    "\tans = input()\n",
    "\tif ans.lower == 'y' or ans.lower == 'yes' or ans == '1':\n",
    "\t\treturn True\n",
    "\telse:\n",
    "\t\treturn False\n",
    "\n",
    "def get_wcif(comp):\n",
    "\t'''Pulls WCIF from WCA and return json object. If there is a problem with the request the program terminates'''\n",
    "\tprint('Attempting to pull competition info...')\n",
    "\t# Send GET request for WCIF\n",
    "\tWCIF = requests.get('https://www.worldcubeassociation.org/api/v0/competitions/' + comp + '/wcif/public')\n",
    "\t# If response code is 200 everything good, otherwise something bad\n",
    "\tif WCIF.status_code == 200:\n",
    "\t\tprint('Success!')\n",
    "\t\treturn WCIF.json()\n",
    "\telse:\n",
    "\t\tprint('Response Error!')\n",
    "\t\texit()"
   ]
  },
  {
   "cell_type": "code",
   "execution_count": 3,
   "metadata": {},
   "outputs": [
    {
     "name": "stdout",
     "output_type": "stream",
     "text": [
      "Enter competition ID:\n",
      "Attempting to pull competition info...\n",
      "Success!\n"
     ]
    }
   ],
   "source": [
    "# Get comp name from user\n",
    "print('Enter competition ID:')\n",
    "#comp = input()\n",
    "comp = 'Cubinginthe6ix2019'\n",
    "#comp_file = comp + '-registration.csv'\n",
    "\n",
    "WCIF = get_wcif(comp)"
   ]
  },
  {
   "cell_type": "code",
   "execution_count": 74,
   "metadata": {
    "collapsed": true
   },
   "outputs": [],
   "source": [
    "class Person:\n",
    "    def __init__(self, name, ID, events, wcaid, num_events):\n",
    "        '''Person constructor'''\n",
    "        self.name = name\n",
    "        self.id = ID\n",
    "        self.events = events\n",
    "        self.wcaid = wcaid\n",
    "        self.groups = [''] * num_events\n",
    "        \n",
    "    @staticmethod\n",
    "    def build_persons(WCIF):\n",
    "        '''Builds an array of competitors from WCIF data'''\n",
    "        lst = [None] * len(WCIF['persons']) # Allocate memory\n",
    "        i = 0 # Counter\n",
    "        for pers in WCIF['persons']: # Loops over each person registered\n",
    "            # Build competitors\n",
    "            lst[i] = Person(pers['name'], pers['registrantId'], pers['registration']['eventIds'], pers['wcaId'], len(WCIF['events']))\n",
    "            if lst[i].wcaid == None:\n",
    "                lst[i].wcaid = ''\n",
    "            i += 1\n",
    "        return lst\n",
    "    \n",
    "    def write_nametags(comp, f_name, num_blank = 0):\n",
    "        '''Given an array of competitors, code for nametags is written for LaTeX'''\n",
    "        f = open(f_name, 'w')\n",
    "        for i in range(len(comp)):\n",
    "            f.write('\\\\nametag{%s}{COMPETITOR}{%s}%%\\n' % (comp[i].name, comp[i].wcaid))\n",
    "        for i in range(num_blank): # Include blank nametags for day of registrations\n",
    "            f.write('\\\\nametag{}{COMPETITOR}{}%\\n')\n",
    "        f.close()\n",
    "        \n",
    "        \n",
    "class Competition:\n",
    "    \n",
    "    def group(self, pers):\n",
    "        for i in range(len(self.events)):\n",
    "            event_group(pers, self.events[i], i)\n",
    "        \n",
    "    @staticmethod\n",
    "    def centi2min(centi):\n",
    "        '''Converts a time in centiseconds to minute:second format'''\n",
    "        minute = int(np.floor(centi / 6000)) # Compute number of minutes\n",
    "        sec = int(np.ceil((centi - 6000 * minute) / 100)) # Compute remainder\n",
    "        return str(minute) + ':' + str(sec).zfill(2) # Format string (zfill zero pads)\n",
    "    \n",
    "    @staticmethod\n",
    "    def build_events(WCIF):\n",
    "        '''Build a list of events held at the competition'''\n",
    "        lst = [None] * len(WCIF['events'])\n",
    "        for i in range(len(WCIF['events'])):\n",
    "            lst[i] = WCIF['events'][i]['id']\n",
    "        return lst\n",
    "    \n",
    "    @staticmethod\n",
    "    def build_cutoffs(WCIF):\n",
    "        '''Build a list of cutoffs for the competition. Note: Assumes cutoffs only in the first round'''\n",
    "        lst = [None] * len(WCIF['events'])\n",
    "        for i in range(len(WCIF['events'])):\n",
    "            if WCIF['events'][i]['rounds'][0]['cutoff'] == None:\n",
    "                lst[i] = ''\n",
    "            else:\n",
    "                lst[i] = Competition.centi2min(WCIF['events'][i]['rounds'][0]['cutoff']['attemptResult'])\n",
    "        return lst\n",
    "    \n",
    "    @staticmethod\n",
    "    def build_limits(WCIF):\n",
    "        '''Build a list of time limits for the competition'''\n",
    "        lst = [None] * len(WCIF['events'])\n",
    "        for i in range(len(WCIF['events'])):\n",
    "            if WCIF['events'][i]['rounds'][0]['cutoff'] == None:\n",
    "                lst[i] = ''\n",
    "            else:\n",
    "                lst[i] = Competition.centi2min(WCIF['events'][i]['rounds'][0]['timeLimit']['centiseconds'])\n",
    "        return lst\n",
    "    \n",
    "    @staticmethod\n",
    "    def build_rounds(WCIF):\n",
    "        '''Build a list of additional rounds for the competition'''\n",
    "        lst = [[] for i in range(len(WCIF['events']))]\n",
    "        for i in range(len(WCIF['events'])):\n",
    "            if WCIF['events'][i]['rounds'][0]['advancementCondition'] != None:\n",
    "                for j in range(len(WCIF['events'][i]['rounds']) - 1):\n",
    "                    lst[i].append(WCIF['events'][i]['rounds'][j]['advancementCondition']['level'])\n",
    "        return lst\n",
    "    \n",
    "    \n",
    "    def __init__(self, WCIF):\n",
    "        '''Competition constructor'''\n",
    "        self.name = WCIF['name']\n",
    "        self.events = Competition.build_events(WCIF)\n",
    "        self.cutoffs = Competition.build_cutoffs(WCIF)\n",
    "        self.limits = Competition.build_limits(WCIF)\n",
    "        self.rounds = Competition.build_rounds(WCIF)\n",
    "            "
   ]
  },
  {
   "cell_type": "code",
   "execution_count": 20,
   "metadata": {
    "collapsed": true
   },
   "outputs": [],
   "source": []
  },
  {
   "cell_type": "code",
   "execution_count": 75,
   "metadata": {},
   "outputs": [],
   "source": [
    "pers = Person.build_persons(WCIF)\n",
    "comp = Competition(WCIF)"
   ]
  },
  {
   "cell_type": "code",
   "execution_count": 57,
   "metadata": {},
   "outputs": [
    {
     "name": "stdout",
     "output_type": "stream",
     "text": [
      "['', '1:30', '4:00', '6:00', '']\n",
      "['', '10:00', '6:00', '8:00', '']\n",
      "[[40, 16], [16], [], [], []]\n"
     ]
    }
   ],
   "source": [
    "print(comp.cutoffs)\n",
    "print(comp.limits)\n",
    "print(comp.rounds)"
   ]
  },
  {
   "cell_type": "code",
   "execution_count": 76,
   "metadata": {},
   "outputs": [],
   "source": [
    "def event_group(pers, eventid, index, g_size = 16):\n",
    "    # Extracts persons competing in eventid\n",
    "    competitors = [i for i in pers if eventid in i.events]\n",
    "    random.shuffle(competitors) # Randomized groups\n",
    "    \n",
    "    N = len(competitors) # Number of competitors in event\n",
    "    num_g = int(np.round(N / float(g_size))) # Number of groups\n",
    "    \n",
    "    count = 0\n",
    "    for pers in competitors:\n",
    "        if eventid in ['333fm', '333mbf', '444bf', '555bf']: # 1 group for long events\n",
    "            pers.groups[index] = '1'\n",
    "            count += 1\n",
    "        else:\n",
    "            pers.groups[index] = str(count * num_g / N + 1) # Record group\n",
    "            count += 1"
   ]
  },
  {
   "cell_type": "code",
   "execution_count": 77,
   "metadata": {},
   "outputs": [
    {
     "name": "stdout",
     "output_type": "stream",
     "text": [
      "Chen-Pin Sun (孫振斌) ['', '', '', '', '']\n",
      "Abdullah Gulab ['', '', '', '', '']\n",
      "Jonathan Esparaz ['', '', '', '', '']\n",
      "Neel Shah ['', '', '', '', '']\n",
      "Alyssa Esparaz ['', '', '', '', '']\n",
      "Brady Metherall ['', '', '', '', '']\n",
      "Sarah Strong ['', '', '', '', '']\n",
      "Kenneth Yeung ['', '', '', '', '']\n",
      "Easton Pan ['', '', '', '', '']\n",
      "Shanglin Ye ['', '', '', '', '']\n",
      "Sebastian Desaulniers ['', '', '', '', '']\n",
      "Emma Kennedy ['', '', '', '', '']\n",
      "Kyria Sztainbok ['', '', '', '', '']\n",
      "Zhivko Radkov Dimitrov ['', '', '', '', '']\n",
      "Joon Song ['', '', '', '', '']\n",
      "Alireza Azimi (علیرضا عظیمی) ['', '', '', '', '']\n",
      "Emmanuel Intac ['', '', '', '', '']\n",
      "Ray Vince Ong ['', '', '', '', '']\n",
      "William Hu ['', '', '', '', '']\n",
      "Tin Huang ['', '', '', '', '']\n",
      "Kairui Huang ['', '', '', '', '']\n",
      "Sami Mokatren ['', '', '', '', '']\n",
      "LianCheng Guo ['', '', '', '', '']\n",
      "Can Çetin ['', '', '', '', '']\n",
      "Tarandeep Mittal ['', '', '', '', '']\n",
      "Bill Wang ['', '', '', '', '']\n",
      "Ethan Honest ['', '', '', '', '']\n",
      "Joaquin Abarca ['', '', '', '', '']\n",
      "Louis Cormier ['', '', '', '', '']\n",
      "Elio Graceni ['', '', '', '', '']\n",
      "Nicholas Patterson ['', '', '', '', '']\n",
      "Marco Yang ['', '', '', '', '']\n",
      "Ranran Zhao (赵然冉) ['', '', '', '', '']\n",
      "Kuba Bindernagel ['', '', '', '', '']\n",
      "Bryan Deng ['', '', '', '', '']\n",
      "Yiming Lu ['', '', '', '', '']\n",
      "David Drobner ['', '', '', '', '']\n",
      "Michael Lit ['', '', '', '', '']\n",
      "Andrew Nguyen ['', '', '', '', '']\n",
      "Ishan Saini ['', '', '', '', '']\n",
      "Daniel Phan ['', '', '', '', '']\n",
      "Roan Paone ['', '', '', '', '']\n",
      "Austin Jordan Eng ['', '', '', '', '']\n",
      "Arturo Pico ['', '', '', '', '']\n",
      "Michael Fung ['', '', '', '', '']\n",
      "Michael Zheng ['', '', '', '', '']\n",
      "Pramathaditya Pathak ['', '', '', '', '']\n",
      "Thompson Clarke ['', '', '', '', '']\n",
      "Max Sun ['', '', '', '', '']\n",
      "Ian Yeh ['', '', '', '', '']\n",
      "Jack Boos ['', '', '', '', '']\n",
      "Alan Jia ['', '', '', '', '']\n",
      "Hayley Monson ['', '', '', '', '']\n",
      "Dave Deriches ['', '', '', '', '']\n",
      "Isaac Lau ['', '', '', '', '']\n",
      "Cameron Chern ['', '', '', '', '']\n",
      "Yuxuan Li ['', '', '', '', '']\n",
      "Harris Chan ['', '', '', '', '']\n",
      "Benson Lau ['', '', '', '', '']\n",
      "Brandon Arnoldo Taylor ['', '', '', '', '']\n",
      "Eric Limeback ['', '', '', '', '']\n",
      "Ryan Pin Harry ['', '', '', '', '']\n",
      "Matthew Geyko ['', '', '', '', '']\n",
      "Mason Leung ['', '', '', '', '']\n",
      "Jonathan Tan Wei Xiat ['', '', '', '', '']\n",
      "Mark Anthony Antao ['', '', '', '', '']\n",
      "Brennen Lin ['', '', '', '', '']\n",
      "Fatima Gulab ['', '', '', '', '']\n",
      "Shreyas Krishna ['', '', '', '', '']\n",
      "Brian Ignacio ['', '', '', '', '']\n",
      "Jhansi Tanguturi ['', '', '', '', '']\n",
      "Brice Lan ['', '', '', '', '']\n",
      "Aimee Esparaz ['', '', '', '', '']\n",
      "Furqan Adeel Choudhry ['', '', '', '', '']\n",
      "Alex Jung ['', '', '', '', '']\n",
      "Floyd Esparaz ['', '', '', '', '']\n",
      "Nima Bolourchian ['', '', '', '', '']\n",
      "Ethan Nguyen ['', '', '', '', '']\n",
      "Yair Korokhov ['', '', '', '', '']\n",
      "Flora Chan ['', '', '', '', '']\n",
      "Brendon Acebedo ['', '', '', '', '']\n",
      "Leo Stewart ['', '', '', '', '']\n",
      "Samuel Lan ['', '', '', '', '']\n",
      "Luis Quijano ['', '', '', '', '']\n",
      "Ethan Erez ['', '', '', '', '']\n",
      "James Wang ['', '', '', '', '']\n",
      "Matthew Lee ['', '', '', '', '']\n",
      "Conor Boucher ['', '', '', '', '']\n",
      "Leo Min-Bedford ['', '', '', '', '']\n",
      "Michael Fisher ['', '', '', '', '']\n",
      "Aris Efstathopoulos ['', '', '', '', '']\n",
      "Lucas Nieuwland ['', '', '', '', '']\n",
      "Owen Wang ['', '', '', '', '']\n",
      "Alex Ly ['', '', '', '', '']\n",
      "Matteo Sorge ['', '', '', '', '']\n",
      "Dave Campbell ['', '', '', '', '']\n",
      "Alexandria Lin ['', '', '', '', '']\n",
      "Emile Compion ['', '', '', '', '']\n",
      "Jit Parmar ['', '', '', '', '']\n",
      "Oliver Ustyanich ['', '', '', '', '']\n",
      "Kieran Savoy ['', '', '', '', '']\n",
      "Yusuf Sheikh ['', '', '', '', '']\n",
      "Ibraheem Ahmed ['', '', '', '', '']\n",
      "Kevin Jacob Rajesh ['', '', '', '', '']\n",
      "Vincent Ren ['', '', '', '', '']\n",
      "William Fehr ['', '', '', '', '']\n",
      "Iain So ['', '', '', '', '']\n",
      "Ethan Coolidge ['', '', '', '', '']\n",
      "Elijah Gonzales ['', '', '', '', '']\n"
     ]
    }
   ],
   "source": [
    "comp.group()\n",
    "for i in pers:\n",
    "    print(i.name, i.groups)"
   ]
  },
  {
   "cell_type": "code",
   "execution_count": 50,
   "metadata": {},
   "outputs": [
    {
     "name": "stdout",
     "output_type": "stream",
     "text": [
      "Marco Yang\n"
     ]
    }
   ],
   "source": []
  },
  {
   "cell_type": "code",
   "execution_count": 35,
   "metadata": {},
   "outputs": [
    {
     "name": "stdout",
     "output_type": "stream",
     "text": [
      "Neel Shah\n"
     ]
    },
    {
     "data": {
      "text/plain": [
       "['', '', '', '', '']"
      ]
     },
     "execution_count": 35,
     "metadata": {},
     "output_type": "execute_result"
    }
   ],
   "source": []
  },
  {
   "cell_type": "code",
   "execution_count": null,
   "metadata": {
    "collapsed": true
   },
   "outputs": [],
   "source": [
    "def write_groups(df, tex_f = 'Groups.tex', wca_f = 'Groups.md', csv_f = 'Groups.csv'):\n",
    "\t# String array for LaTeX code and WCA website for groups\n",
    "\ttex_groups = np.array(r'\\groups{' + df['Name'].map(str) + '}{')\n",
    "\twca_groups = np.array(df['Name'].map(str) + ' |')\n",
    "\twca_header = np.array(['Name |', ' --- |'])\n",
    "\tfor i in list(df)[2:]:\n",
    "\t\ttex_groups += event_dict[i][0] + ' & ' + df[i].map(str) + ' \\\\\\ '\n",
    "\t\twca_groups += ' ' + df[i].map(str) + ' |'\n",
    "\t\t#wca_header += np.array([' ' + event_dict[i][1] + ' |', ' :---: |'])\n",
    "\t\twca_header = np.core.defchararray.add(wca_header, [' ' + event_dict[i][1] + ' |', ' :---: |']) # There's got to be an easier way\n",
    "\ttex_groups += '}%' # Close the bracket in the string array\n",
    "\t# Write groups to files\n",
    "\tnp.savetxt(tex_f, tex_groups, fmt = '%s')\n",
    "\tnp.savetxt(wca_f, np.hstack((wca_header, wca_groups)), fmt = '%s')\n",
    "\tdf.to_csv(csv_f, index = False)\n",
    "\n",
    "# Create groups for one event\n",
    "def event_group(df, g_size = 16):\n",
    "\t# df should be two columns, Name and an eventID\n",
    "\tdf_old = df\n",
    "\tdf = df[df.iloc[:, 1] == 1] # Extract only competitors in event\n",
    "\tdf = df.sample(frac = 1) # Randomize groups\n",
    "\tn = len(df) # Number of competitors in event\n",
    "\tnum_g = int(np.round(n / float(g_size))) # Number of groups\n",
    "\tif list(df)[1] in ['333fm', '333mbf', '444bf', '555bf']:\n",
    "\t\t# For long events, only 1 group\n",
    "\t\tgroup = np.ones(n).astype(int)\n",
    "\telse:\n",
    "\t\tgroup = np.arange(n) * num_g / n + 1\n",
    "\tdf['Group'] = group.astype(str) # Append column formatted as a string\n",
    "\treturn df_old.merge(df, how = 'left').fillna('') # Return merged groups with old DataFrame, filling blanks with an empty string\n",
    "\n",
    "def make_groups(df):\n",
    "\tgroup_df = df[['index', 'Name']].copy()\n",
    "\t# Iterate through columns of registration file to calculate groups for each event\n",
    "\tfor i in list(df)[7:-3]:\n",
    "\t\tg_num = event_group(df[['Name', i]])['Group'].map(str)\n",
    "\t\tgroup_df[i] = g_num\n",
    "\treturn group_df"
   ]
  }
 ],
 "metadata": {
  "kernelspec": {
   "display_name": "Python 3",
   "language": "python",
   "name": "python3"
  },
  "language_info": {
   "codemirror_mode": {
    "name": "ipython",
    "version": 2
   },
   "file_extension": ".py",
   "mimetype": "text/x-python",
   "name": "python",
   "nbconvert_exporter": "python",
   "pygments_lexer": "ipython2",
   "version": "2.7.13"
  }
 },
 "nbformat": 4,
 "nbformat_minor": 2
}
