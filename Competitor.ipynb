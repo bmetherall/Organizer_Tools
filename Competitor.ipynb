{
 "cells": [
  {
   "cell_type": "code",
   "execution_count": 1,
   "metadata": {
    "collapsed": true
   },
   "outputs": [],
   "source": [
    "from __future__ import print_function\n",
    "import requests"
   ]
  },
  {
   "cell_type": "code",
   "execution_count": 4,
   "metadata": {},
   "outputs": [],
   "source": [
    "def get_ans():\n",
    "\t'''Asks user for input. If the user types yes true is returned'''\n",
    "\tans = input()\n",
    "\tif ans.lower == 'y' or ans.lower == 'yes' or ans == '1':\n",
    "\t\treturn True\n",
    "\telse:\n",
    "\t\treturn False\n",
    "\n",
    "def get_wcif(comp):\n",
    "\t'''Pulls WCIF from WCA and return json object. If there is a problem with the request the program terminates'''\n",
    "\tprint('Attempting to pull competition info...')\n",
    "\t# Send GET request for WCIF\n",
    "\tWCIF = requests.get('https://www.worldcubeassociation.org/api/v0/competitions/' + comp + '/wcif/public')\n",
    "\t# If response code is 200 everything good, otherwise something bad\n",
    "\tif WCIF.status_code == 200:\n",
    "\t\tprint('Success!')\n",
    "\t\treturn WCIF.json()\n",
    "\telse:\n",
    "\t\tprint('Response Error!')\n",
    "\t\texit()"
   ]
  },
  {
   "cell_type": "code",
   "execution_count": 5,
   "metadata": {},
   "outputs": [
    {
     "name": "stdout",
     "output_type": "stream",
     "text": [
      "Enter competition ID:\n",
      "Attempting to pull competition info...\n",
      "Success!\n"
     ]
    }
   ],
   "source": [
    "# Get comp name from user\n",
    "print('Enter competition ID:')\n",
    "#comp = input()\n",
    "comp = 'Cubinginthe6ix2019'\n",
    "#comp_file = comp + '-registration.csv'\n",
    "\n",
    "WCIF = get_wcif(comp)"
   ]
  },
  {
   "cell_type": "code",
   "execution_count": 74,
   "metadata": {},
   "outputs": [],
   "source": [
    "class Competitor:\n",
    "    def __init__(self, name, ID, events, wcaid):\n",
    "        self.name = name\n",
    "        self.id = ID\n",
    "        self.events = events\n",
    "        self.wcaid = wcaid\n",
    "        \n",
    "    @staticmethod\n",
    "    def build_competitors(WCIF):\n",
    "        lst = [None] * len(WCIF['persons'])\n",
    "        i = 0\n",
    "        for pers in WCIF['persons']:\n",
    "            lst[i] = Competitor(pers['name'], pers['registrantId'], pers['registration']['eventIds'], pers['wcaId'])\n",
    "            i += 1\n",
    "        return lst\n",
    "    \n"
   ]
  },
  {
   "cell_type": "code",
   "execution_count": 75,
   "metadata": {},
   "outputs": [],
   "source": [
    "c1 = Competitor('Abdullah Gulab', 2, ['333', '333bf', '444', '666', '777'], '2014GULA02')\n",
    "c2 = Competitor.build_competitors(WCIF)"
   ]
  },
  {
   "cell_type": "code",
   "execution_count": 76,
   "metadata": {},
   "outputs": [
    {
     "name": "stdout",
     "output_type": "stream",
     "text": [
      "[u'333', u'444']\n"
     ]
    }
   ],
   "source": [
    "print(c2[50].events)"
   ]
  },
  {
   "cell_type": "code",
   "execution_count": null,
   "metadata": {
    "collapsed": true
   },
   "outputs": [],
   "source": []
  }
 ],
 "metadata": {
  "kernelspec": {
   "display_name": "Python 3",
   "language": "python",
   "name": "python3"
  },
  "language_info": {
   "codemirror_mode": {
    "name": "ipython",
    "version": 2
   },
   "file_extension": ".py",
   "mimetype": "text/x-python",
   "name": "python",
   "nbconvert_exporter": "python",
   "pygments_lexer": "ipython2",
   "version": "2.7.13"
  }
 },
 "nbformat": 4,
 "nbformat_minor": 2
}
