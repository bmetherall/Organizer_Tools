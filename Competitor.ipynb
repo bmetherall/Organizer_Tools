{
 "cells": [
  {
   "cell_type": "code",
   "execution_count": 19,
   "metadata": {},
   "outputs": [
    {
     "data": {
      "text/html": [
       "<style>.container { width:100% !important; }</style>"
      ],
      "text/plain": [
       "<IPython.core.display.HTML object>"
      ]
     },
     "metadata": {},
     "output_type": "display_data"
    }
   ],
   "source": [
    "from __future__ import print_function\n",
    "import requests\n",
    "import numpy as np\n",
    "import random\n",
    "\n",
    "from IPython.core.display import display, HTML\n",
    "display(HTML(\"<style>.container { width:100% !important; }</style>\"))"
   ]
  },
  {
   "cell_type": "code",
   "execution_count": 20,
   "metadata": {},
   "outputs": [],
   "source": [
    "def get_ans():\n",
    "\t'''Asks user for input. If the user types yes true is returned'''\n",
    "\tans = input()\n",
    "\tif ans.lower == 'y' or ans.lower == 'yes' or ans == '1':\n",
    "\t\treturn True\n",
    "\telse:\n",
    "\t\treturn False\n",
    "\n",
    "def get_wcif(comp):\n",
    "\t'''Pulls WCIF from WCA and return json object. If there is a problem with the request the program terminates'''\n",
    "\tprint('Attempting to pull competition info...')\n",
    "\t# Send GET request for WCIF\n",
    "\tWCIF = requests.get('https://www.worldcubeassociation.org/api/v0/competitions/' + comp + '/wcif/public')\n",
    "\t# If response code is 200 everything good, otherwise something bad\n",
    "\tif WCIF.status_code == 200:\n",
    "\t\tprint('Success!')\n",
    "\t\treturn WCIF.json()\n",
    "\telse:\n",
    "\t\tprint('Response Error!')\n",
    "\t\texit()"
   ]
  },
  {
   "cell_type": "code",
   "execution_count": 21,
   "metadata": {},
   "outputs": [
    {
     "name": "stdout",
     "output_type": "stream",
     "text": [
      "Enter competition ID:\n",
      "Attempting to pull competition info...\n",
      "Success!\n"
     ]
    }
   ],
   "source": [
    "# Get comp name from user\n",
    "print('Enter competition ID:')\n",
    "#comp = input()\n",
    "comp = 'Cubinginthe6ix2019'\n",
    "#comp = 'NA2020'\n",
    "#comp_file = comp + '-registration.csv'\n",
    "\n",
    "WCIF = get_wcif(comp)"
   ]
  },
  {
   "cell_type": "code",
   "execution_count": 51,
   "metadata": {},
   "outputs": [],
   "source": [
    "class Person:\n",
    "    def __init__(self, name, ID, events, wcaid, num_events):\n",
    "        '''Person constructor'''\n",
    "        self.name = name\n",
    "        self.id = ID\n",
    "        self.events = events\n",
    "        self.wcaid = wcaid\n",
    "        self.groups = [''] * num_events\n",
    "        \n",
    "    @staticmethod\n",
    "    def build_persons(WCIF):\n",
    "        '''Builds an array of competitors from WCIF data'''\n",
    "        lst = []\n",
    "        i = 0 # Counter\n",
    "        for pers in WCIF['persons']: # Loops over each person registered\n",
    "            # Build competitors\n",
    "            if pers['registration'] != None:\n",
    "                lst.append(Person(pers['name'], pers['registrantId'], pers['registration']['eventIds'], pers['wcaId'], len(WCIF['events'])))\n",
    "                if lst[i].wcaid == None:\n",
    "                    lst[i].wcaid = ''\n",
    "                i += 1\n",
    "        return lst\n",
    "        \n",
    "        \n",
    "class Competition:    \n",
    "    def event_group(self, eventid, index, g_size = 16):\n",
    "        # Extracts persons competing in eventid\n",
    "        competing = [i for i in self.competitors if eventid in i.events]\n",
    "        random.shuffle(competing) # Randomized groups\n",
    "\n",
    "        N = len(competing) # Number of competitors in event\n",
    "        num_g = int(np.round(N / float(g_size))) # Number of groups\n",
    "\n",
    "        count = 0\n",
    "        for pers in competing:\n",
    "            if eventid in ['333fm', '333mbf', '444bf', '555bf']: # 1 group for long events\n",
    "                pers.groups[index] = '1'\n",
    "                count += 1\n",
    "            else:\n",
    "                pers.groups[index] = str(int(count * num_g / N) + 1) # Record group\n",
    "                count += 1            \n",
    "            \n",
    "    def group(self):\n",
    "        for i in range(len(self.events)):\n",
    "            self.event_group(self.events[i], i)\n",
    "            \n",
    "    def write_nametags(self, f_name, num_blank = 0):\n",
    "        self.competitors.sort(key=lambda i: i.name) # Sort by name\n",
    "        f = open(f_name, 'w')\n",
    "        for pers in self.competitors:\n",
    "            f.write('\\\\nametag{%s}{COMPETITOR}{%s}%%\\n' % (pers.name, pers.wcaid))\n",
    "        for i in range(num_blank): # Include blank nametags for day-of registrations\n",
    "            f.write('\\\\nametag{}{COMPETITOR}{}%\\n')\n",
    "        f.close()\n",
    "        \n",
    "    def write_groups(self, f_name):\n",
    "        self.competitors.sort(key=lambda i: i.name) # Sort by name\n",
    "        f = open(f_name, 'w')\n",
    "        for pers in self.competitors:\n",
    "            f.write('\\\\groups{%s}{' % (pers.name))\n",
    "            for i in range(len(self.events)):\n",
    "                f.write('%s & %s \\\\\\\\ ' % (self.events[i], pers.groups[i]))\n",
    "            f.write('}% \\n')\n",
    "        f.close()\n",
    "\n",
    "\n",
    "        \n",
    "    @staticmethod\n",
    "    def centi2min(centi):\n",
    "        '''Converts a time in centiseconds to minute:second format'''\n",
    "        minute = int(np.floor(centi / 6000)) # Compute number of minutes\n",
    "        sec = int(np.ceil((centi - 6000 * minute) / 100)) # Compute remainder\n",
    "        return str(minute) + ':' + str(sec).zfill(2) # Format string (zfill zero pads)\n",
    "    \n",
    "    @staticmethod\n",
    "    def build_events(WCIF):\n",
    "        '''Build a list of events held at the competition'''\n",
    "        lst = [None] * len(WCIF['events'])\n",
    "        for i in range(len(WCIF['events'])):\n",
    "            lst[i] = WCIF['events'][i]['id']\n",
    "        return lst\n",
    "    \n",
    "    @staticmethod\n",
    "    def build_cutoffs(WCIF):\n",
    "        '''Build a list of cutoffs for the competition. Note: Assumes cutoffs only in the first round'''\n",
    "        lst = [None] * len(WCIF['events'])\n",
    "        for i in range(len(WCIF['events'])):\n",
    "            if WCIF['events'][i]['rounds'][0]['cutoff'] == None:\n",
    "                lst[i] = ''\n",
    "            else:\n",
    "                lst[i] = Competition.centi2min(WCIF['events'][i]['rounds'][0]['cutoff']['attemptResult'])\n",
    "        return lst\n",
    "    \n",
    "    @staticmethod\n",
    "    def build_limits(WCIF):\n",
    "        '''Build a list of time limits for the competition'''\n",
    "        lst = [None] * len(WCIF['events'])\n",
    "        for i in range(len(WCIF['events'])):\n",
    "            if WCIF['events'][i]['rounds'][0]['cutoff'] == None:\n",
    "                lst[i] = ''\n",
    "            else:\n",
    "                lst[i] = Competition.centi2min(WCIF['events'][i]['rounds'][0]['timeLimit']['centiseconds'])\n",
    "        return lst\n",
    "    \n",
    "    @staticmethod\n",
    "    def build_rounds(WCIF):\n",
    "        '''Build a list of additional rounds for the competition'''\n",
    "        lst = [[] for i in range(len(WCIF['events']))]\n",
    "        for i in range(len(WCIF['events'])):\n",
    "            if WCIF['events'][i]['rounds'][0]['advancementCondition'] != None:\n",
    "                for j in range(len(WCIF['events'][i]['rounds']) - 1):\n",
    "                    lst[i].append(WCIF['events'][i]['rounds'][j]['advancementCondition']['level'])\n",
    "        return lst\n",
    "    \n",
    "    \n",
    "    def __init__(self, WCIF):\n",
    "        '''Competition constructor'''\n",
    "        self.name = WCIF['name']\n",
    "        self.events = Competition.build_events(WCIF)\n",
    "        self.cutoffs = Competition.build_cutoffs(WCIF)\n",
    "        self.limits = Competition.build_limits(WCIF)\n",
    "        self.rounds = Competition.build_rounds(WCIF)\n",
    "        self.competitors = Person.build_persons(WCIF)\n",
    "            "
   ]
  },
  {
   "cell_type": "code",
   "execution_count": null,
   "metadata": {},
   "outputs": [],
   "source": []
  },
  {
   "cell_type": "code",
   "execution_count": 52,
   "metadata": {},
   "outputs": [],
   "source": [
    "comp = Competition(WCIF)"
   ]
  },
  {
   "cell_type": "code",
   "execution_count": 53,
   "metadata": {},
   "outputs": [],
   "source": [
    "comp.write_nametags('Test.tex')\n",
    "comp.group()\n",
    "comp.write_groups('TestGroup.tex')"
   ]
  },
  {
   "cell_type": "code",
   "execution_count": 25,
   "metadata": {},
   "outputs": [
    {
     "name": "stdout",
     "output_type": "stream",
     "text": [
      "['', '1:30', '4:00', '6:00', '']\n",
      "['', '10:00', '6:00', '8:00', '']\n",
      "[[40, 16], [16], [], [], []]\n",
      "Neel Shah\n"
     ]
    }
   ],
   "source": [
    "print(comp.cutoffs)\n",
    "print(comp.limits)\n",
    "print(comp.rounds)\n",
    "print(comp.competitors[3].name)"
   ]
  },
  {
   "cell_type": "code",
   "execution_count": null,
   "metadata": {
    "scrolled": false
   },
   "outputs": [],
   "source": []
  },
  {
   "cell_type": "code",
   "execution_count": 26,
   "metadata": {
    "scrolled": true
   },
   "outputs": [
    {
     "name": "stdout",
     "output_type": "stream",
     "text": [
      "['333', '444', '666', '777', '333bf']\n",
      "Chen-Pin Sun (孫振斌) ['1', '4', '1', '1', '1']\n",
      "Abdullah Gulab ['5', '4', '2', '2', '2']\n",
      "Jonathan Esparaz ['3', '3', '2', '1', '2']\n",
      "Neel Shah ['6', '5', '', '', '']\n",
      "Alyssa Esparaz ['5', '3', '', '', '2']\n",
      "Brady Metherall ['3', '3', '1', '1', '1']\n",
      "Sarah Strong ['2', '2', '', '1', '']\n",
      "Kenneth Yeung ['2', '4', '', '1', '']\n",
      "Easton Pan ['6', '', '', '', '']\n",
      "Shanglin Ye ['2', '2', '', '', '']\n",
      "Sebastian Desaulniers ['7', '2', '1', '', '1']\n",
      "Emma Kennedy ['3', '3', '', '', '']\n",
      "Kyria Sztainbok ['3', '1', '', '', '2']\n",
      "Zhivko Radkov Dimitrov ['2', '5', '', '', '']\n",
      "Joon Song ['4', '5', '', '', '2']\n",
      "Alireza Azimi (علیرضا عظیمی) ['6', '4', '', '', '']\n",
      "Emmanuel Intac ['4', '', '', '', '']\n",
      "Ray Vince Ong ['5', '3', '', '', '']\n",
      "William Hu ['3', '1', '', '', '2']\n",
      "Tin Huang ['6', '4', '', '', '1']\n",
      "Kairui Huang ['1', '4', '', '', '']\n",
      "Sami Mokatren ['2', '2', '', '', '']\n",
      "LianCheng Guo ['6', '1', '2', '2', '2']\n",
      "Can Çetin ['2', '1', '1', '', '1']\n",
      "Tarandeep Mittal ['2', '5', '', '', '']\n",
      "Bill Wang ['4', '1', '1', '2', '1']\n",
      "Ethan Honest ['4', '', '', '', '']\n",
      "Joaquin Abarca ['6', '4', '1', '', '1']\n",
      "Louis Cormier ['7', '2', '1', '1', '1']\n",
      "Elio Graceni ['3', '', '', '', '']\n",
      "Nicholas Patterson ['1', '4', '2', '2', '1']\n",
      "Marco Yang ['6', '2', '2', '2', '2']\n",
      "Ranran Zhao (赵然冉) ['1', '', '', '', '']\n",
      "Kuba Bindernagel ['5', '', '', '', '']\n",
      "Bryan Deng ['7', '3', '', '', '']\n",
      "Yiming Lu ['3', '', '', '', '']\n",
      "David Drobner ['3', '3', '1', '', '']\n",
      "Michael Lit ['2', '', '', '', '']\n",
      "Andrew Nguyen ['1', '', '', '', '2']\n",
      "Ishan Saini ['7', '', '', '', '']\n",
      "Daniel Phan ['7', '1', '', '', '1']\n",
      "Roan Paone ['1', '1', '1', '1', '2']\n",
      "Austin Jordan Eng ['4', '5', '', '', '']\n",
      "Arturo Pico ['5', '5', '', '', '']\n",
      "Michael Fung ['5', '2', '', '', '']\n",
      "Michael Zheng ['6', '4', '', '', '1']\n",
      "Pramathaditya Pathak ['7', '1', '', '', '']\n",
      "Thompson Clarke ['1', '3', '2', '2', '2']\n",
      "Max Sun ['4', '2', '2', '1', '']\n",
      "Ian Yeh ['1', '2', '2', '', '2']\n",
      "Jack Boos ['3', '3', '', '', '']\n",
      "Alan Jia ['3', '1', '1', '', '']\n",
      "Hayley Monson ['6', '2', '', '', '']\n",
      "Dave Deriches ['2', '5', '', '', '']\n",
      "Isaac Lau ['4', '3', '', '', '1']\n",
      "Cameron Chern ['2', '', '', '', '']\n",
      "Yuxuan Li ['4', '5', '', '', '']\n",
      "Harris Chan ['2', '3', '2', '', '1']\n",
      "Benson Lau ['5', '5', '', '', '1']\n",
      "Brandon Arnoldo Taylor ['6', '2', '', '', '']\n",
      "Eric Limeback ['5', '4', '2', '2', '2']\n",
      "Ryan Pin Harry ['5', '5', '1', '2', '1']\n",
      "Matthew Geyko ['4', '2', '', '', '']\n",
      "Mason Leung ['7', '', '', '', '']\n",
      "Jonathan Tan Wei Xiat ['7', '3', '2', '1', '1']\n",
      "Mark Anthony Antao ['4', '4', '', '', '']\n",
      "Brennen Lin ['1', '3', '2', '2', '1']\n",
      "Fatima Gulab ['5', '', '', '', '']\n",
      "Shreyas Krishna ['3', '1', '', '', '']\n",
      "Brian Ignacio ['5', '2', '1', '', '']\n",
      "Jhansi Tanguturi ['4', '', '', '', '']\n",
      "Brice Lan ['1', '5', '', '', '']\n",
      "Aimee Esparaz ['1', '', '', '', '']\n",
      "Furqan Adeel Choudhry ['3', '5', '', '', '']\n",
      "Alex Jung ['4', '5', '', '', '1']\n",
      "Floyd Esparaz ['3', '', '', '', '']\n",
      "Nima Bolourchian ['7', '2', '', '', '2']\n",
      "Ethan Nguyen ['4', '', '', '', '']\n",
      "Yair Korokhov ['7', '', '', '', '']\n",
      "Flora Chan ['1', '', '', '', '']\n",
      "Brendon Acebedo ['2', '', '', '', '']\n",
      "Leo Stewart ['6', '3', '', '', '']\n",
      "Samuel Lan ['7', '', '', '', '']\n",
      "Luis Quijano ['2', '', '', '', '']\n",
      "Ethan Erez ['3', '2', '', '', '']\n",
      "James Wang ['7', '', '', '', '']\n",
      "Matthew Lee ['6', '5', '2', '2', '']\n",
      "Conor Boucher ['7', '3', '1', '2', '']\n",
      "Leo Min-Bedford ['4', '4', '', '', '']\n",
      "Michael Fisher ['6', '4', '1', '2', '']\n",
      "Aris Efstathopoulos ['6', '', '', '', '']\n",
      "Lucas Nieuwland ['6', '1', '1', '2', '']\n",
      "Owen Wang ['1', '', '', '', '']\n",
      "Alex Ly ['2', '', '', '', '']\n",
      "Matteo Sorge ['1', '', '', '', '']\n",
      "Dave Campbell ['1', '1', '2', '1', '']\n",
      "Alexandria Lin ['2', '', '', '', '']\n",
      "Emile Compion ['7', '4', '', '', '2']\n",
      "Jit Parmar ['6', '4', '', '', '2']\n",
      "Oliver Ustyanich ['3', '', '', '', '']\n",
      "Kieran Savoy ['7', '5', '', '', '2']\n",
      "Yusuf Sheikh ['2', '1', '2', '1', '2']\n",
      "Ibraheem Ahmed ['4', '1', '2', '1', '1']\n",
      "Kevin Jacob Rajesh ['5', '2', '', '', '']\n",
      "Vincent Ren ['1', '', '', '', '']\n",
      "William Fehr ['4', '1', '', '', '']\n",
      "Iain So ['5', '', '', '', '']\n",
      "Ethan Coolidge ['5', '4', '1', '1', '']\n",
      "Elijah Gonzales ['5', '1', '', '', '']\n"
     ]
    }
   ],
   "source": [
    "comp.group()\n",
    "print(comp.events)\n",
    "for i in comp.competitors:\n",
    "    print(i.name, i.groups)"
   ]
  },
  {
   "cell_type": "code",
   "execution_count": 31,
   "metadata": {},
   "outputs": [],
   "source": []
  },
  {
   "cell_type": "code",
   "execution_count": 35,
   "metadata": {},
   "outputs": [
    {
     "data": {
      "text/plain": [
       "'2014GULA02'"
      ]
     },
     "execution_count": 35,
     "metadata": {},
     "output_type": "execute_result"
    }
   ],
   "source": [
    "comp.competitors[0].wcaid"
   ]
  },
  {
   "cell_type": "code",
   "execution_count": null,
   "metadata": {},
   "outputs": [],
   "source": [
    "def write_groups(df, tex_f = 'Groups.tex', wca_f = 'Groups.md', csv_f = 'Groups.csv'):\n",
    "\t# String array for LaTeX code and WCA website for groups\n",
    "\ttex_groups = np.array(r'\\groups{' + df['Name'].map(str) + '}{')\n",
    "\twca_groups = np.array(df['Name'].map(str) + ' |')\n",
    "\twca_header = np.array(['Name |', ' --- |'])\n",
    "\tfor i in list(df)[2:]:\n",
    "\t\ttex_groups += event_dict[i][0] + ' & ' + df[i].map(str) + ' \\\\\\ '\n",
    "\t\twca_groups += ' ' + df[i].map(str) + ' |'\n",
    "\t\t#wca_header += np.array([' ' + event_dict[i][1] + ' |', ' :---: |'])\n",
    "\t\twca_header = np.core.defchararray.add(wca_header, [' ' + event_dict[i][1] + ' |', ' :---: |']) # There's got to be an easier way\n",
    "\ttex_groups += '}%' # Close the bracket in the string array\n",
    "\t# Write groups to files\n",
    "\tnp.savetxt(tex_f, tex_groups, fmt = '%s')\n",
    "\tnp.savetxt(wca_f, np.hstack((wca_header, wca_groups)), fmt = '%s')\n",
    "\tdf.to_csv(csv_f, index = False)\n"
   ]
  }
 ],
 "metadata": {
  "kernelspec": {
   "display_name": "Python 3",
   "language": "python",
   "name": "python3"
  },
  "language_info": {
   "codemirror_mode": {
    "name": "ipython",
    "version": 3
   },
   "file_extension": ".py",
   "mimetype": "text/x-python",
   "name": "python",
   "nbconvert_exporter": "python",
   "pygments_lexer": "ipython3",
   "version": "3.6.9"
  }
 },
 "nbformat": 4,
 "nbformat_minor": 2
}
