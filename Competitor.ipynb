{
 "cells": [
  {
   "cell_type": "code",
   "execution_count": 1,
   "metadata": {},
   "outputs": [],
   "source": [
    "from __future__ import print_function\n",
    "import requests\n",
    "import numpy as np"
   ]
  },
  {
   "cell_type": "code",
   "execution_count": 2,
   "metadata": {},
   "outputs": [],
   "source": [
    "def get_ans():\n",
    "\t'''Asks user for input. If the user types yes true is returned'''\n",
    "\tans = input()\n",
    "\tif ans.lower == 'y' or ans.lower == 'yes' or ans == '1':\n",
    "\t\treturn True\n",
    "\telse:\n",
    "\t\treturn False\n",
    "\n",
    "def get_wcif(comp):\n",
    "\t'''Pulls WCIF from WCA and return json object. If there is a problem with the request the program terminates'''\n",
    "\tprint('Attempting to pull competition info...')\n",
    "\t# Send GET request for WCIF\n",
    "\tWCIF = requests.get('https://www.worldcubeassociation.org/api/v0/competitions/' + comp + '/wcif/public')\n",
    "\t# If response code is 200 everything good, otherwise something bad\n",
    "\tif WCIF.status_code == 200:\n",
    "\t\tprint('Success!')\n",
    "\t\treturn WCIF.json()\n",
    "\telse:\n",
    "\t\tprint('Response Error!')\n",
    "\t\texit()"
   ]
  },
  {
   "cell_type": "code",
   "execution_count": 3,
   "metadata": {},
   "outputs": [
    {
     "name": "stdout",
     "output_type": "stream",
     "text": [
      "Enter competition ID:\n",
      "Attempting to pull competition info...\n",
      "Success!\n"
     ]
    }
   ],
   "source": [
    "# Get comp name from user\n",
    "print('Enter competition ID:')\n",
    "#comp = input()\n",
    "comp = 'Cubinginthe6ix2019'\n",
    "#comp_file = comp + '-registration.csv'\n",
    "\n",
    "WCIF = get_wcif(comp)"
   ]
  },
  {
   "cell_type": "code",
   "execution_count": 95,
   "metadata": {},
   "outputs": [],
   "source": [
    "class Competitor:\n",
    "    def __init__(self, name, ID, events, wcaid):\n",
    "        '''Competitor constructor'''\n",
    "        self.name = name\n",
    "        self.id = ID\n",
    "        self.events = events\n",
    "        self.wcaid = wcaid\n",
    "        \n",
    "    @staticmethod\n",
    "    def build_competitors(WCIF):\n",
    "        '''Builds an array of competitors from WCIF data'''\n",
    "        lst = [None] * len(WCIF['persons']) # Allocate memory\n",
    "        i = 0 # Counter\n",
    "        for pers in WCIF['persons']: # Loops over each person registered\n",
    "            # Build competitors\n",
    "            lst[i] = Competitor(pers['name'], pers['registrantId'], pers['registration']['eventIds'], pers['wcaId'])\n",
    "            if lst[i].wcaid == None:\n",
    "                lst[i].wcaid = ''\n",
    "            i += 1\n",
    "        return lst\n",
    "    \n",
    "    def write_nametags(comp, f_name, num_blank = 0):\n",
    "        '''Given an array of competitors, code for nametags is written for LaTeX'''\n",
    "        f = open(f_name, 'w')\n",
    "        for i in range(len(comp)):\n",
    "            f.write('\\\\nametag{%s}{COMPETITOR}{%s}%%\\n' % (comp[i].name, comp[i].wcaid))\n",
    "        for i in range(num_blank): # Include blank nametags for day of registrations\n",
    "            f.write('\\\\nametag{}{COMPETITOR}{}%\\n')\n",
    "        f.close()\n",
    "        \n",
    "        \n",
    "class Competition:\n",
    "    @staticmethod\n",
    "    def centi2min(centi):\n",
    "        '''Converts a time in centiseconds to minute:second format'''\n",
    "        minute = int(np.floor(centi / 6000)) # Compute number of minutes\n",
    "        sec = int(np.ceil((centi - 6000 * minute) / 100)) # Compute remainder\n",
    "        return str(minute) + ':' + str(sec).zfill(2) # Format string (zfill zero pads)\n",
    "    \n",
    "    def build_events(WCIF):\n",
    "        '''Build a list of events held at the competition'''\n",
    "        lst = [None] * len(WCIF['events'])\n",
    "        for i in range(len(WCIF['events'])):\n",
    "            lst[i] = WCIF['events'][i]['id']\n",
    "        return lst\n",
    "    \n",
    "    def build_cutoffs(WCIF):\n",
    "        '''Build a list of cutoffs for the competition. Note: Assumes cutoffs only in the first round'''\n",
    "        lst = [None] * len(WCIF['events'])\n",
    "        for i in range(len(WCIF['events'])):\n",
    "            if WCIF['events'][i]['rounds'][0]['cutoff'] == None:\n",
    "                lst[i] = ''\n",
    "            else:\n",
    "                lst[i] = Competition.centi2min(WCIF['events'][i]['rounds'][0]['cutoff']['attemptResult'])\n",
    "        return lst\n",
    "    \n",
    "    def build_limits(WCIF):\n",
    "        '''Build a list of time limits for the competition'''\n",
    "        lst = [None] * len(WCIF['events'])\n",
    "        for i in range(len(WCIF['events'])):\n",
    "            if WCIF['events'][i]['rounds'][0]['cutoff'] == None:\n",
    "                lst[i] = ''\n",
    "            else:\n",
    "                lst[i] = Competition.centi2min(WCIF['events'][i]['rounds'][0]['timeLimit']['centiseconds'])\n",
    "        return lst\n",
    "    \n",
    "    def build_rounds(WCIF):\n",
    "        '''Build a list of additional rounds for the competition'''\n",
    "        lst = [[] for i in range(len(WCIF['events']))]\n",
    "        for i in range(len(WCIF['events'])):\n",
    "            if WCIF['events'][i]['rounds'][0]['advancementCondition'] != None:\n",
    "                for j in range(len(WCIF['events'][i]['rounds']) - 1):\n",
    "                    lst[i].append(WCIF['events'][i]['rounds'][j]['advancementCondition']['level'])\n",
    "        return lst\n",
    "    \n",
    "    \n",
    "    def __init__(self, WCIF):\n",
    "        '''Competition constructor'''\n",
    "        self.name = WCIF['name']\n",
    "        self.events = Competition.build_events(WCIF)\n",
    "        self.cutoffs = Competition.build_cutoffs(WCIF)\n",
    "        self.limits = Competition.build_limits(WCIF)\n",
    "        self.rounds = Competition.build_rounds(WCIF)\n",
    "            "
   ]
  },
  {
   "cell_type": "code",
   "execution_count": 96,
   "metadata": {},
   "outputs": [],
   "source": [
    "c = Competitor.build_competitors(WCIF)\n",
    "comp = Competition(WCIF)"
   ]
  },
  {
   "cell_type": "code",
   "execution_count": 97,
   "metadata": {},
   "outputs": [
    {
     "name": "stdout",
     "output_type": "stream",
     "text": [
      "['', '1:30', '4:00', '6:00', '']\n",
      "['', '10:00', '6:00', '8:00', '']\n",
      "[[40, 16], [16], [], [], []]\n"
     ]
    }
   ],
   "source": [
    "print(comp.cutoffs)\n",
    "print(comp.limits)\n",
    "print(comp.rounds)"
   ]
  },
  {
   "cell_type": "code",
   "execution_count": null,
   "metadata": {},
   "outputs": [],
   "source": []
  },
  {
   "cell_type": "code",
   "execution_count": null,
   "metadata": {},
   "outputs": [],
   "source": []
  },
  {
   "cell_type": "code",
   "execution_count": null,
   "metadata": {},
   "outputs": [],
   "source": []
  },
  {
   "cell_type": "code",
   "execution_count": null,
   "metadata": {},
   "outputs": [],
   "source": [
    "def write_groups(df, tex_f = 'Groups.tex', wca_f = 'Groups.md', csv_f = 'Groups.csv'):\n",
    "\t# String array for LaTeX code and WCA website for groups\n",
    "\ttex_groups = np.array(r'\\groups{' + df['Name'].map(str) + '}{')\n",
    "\twca_groups = np.array(df['Name'].map(str) + ' |')\n",
    "\twca_header = np.array(['Name |', ' --- |'])\n",
    "\tfor i in list(df)[2:]:\n",
    "\t\ttex_groups += event_dict[i][0] + ' & ' + df[i].map(str) + ' \\\\\\ '\n",
    "\t\twca_groups += ' ' + df[i].map(str) + ' |'\n",
    "\t\t#wca_header += np.array([' ' + event_dict[i][1] + ' |', ' :---: |'])\n",
    "\t\twca_header = np.core.defchararray.add(wca_header, [' ' + event_dict[i][1] + ' |', ' :---: |']) # There's got to be an easier way\n",
    "\ttex_groups += '}%' # Close the bracket in the string array\n",
    "\t# Write groups to files\n",
    "\tnp.savetxt(tex_f, tex_groups, fmt = '%s')\n",
    "\tnp.savetxt(wca_f, np.hstack((wca_header, wca_groups)), fmt = '%s')\n",
    "\tdf.to_csv(csv_f, index = False)\n",
    "\n",
    "# Create groups for one event\n",
    "def event_group(df, g_size = 16):\n",
    "\t# df should be two columns, Name and an eventID\n",
    "\tdf_old = df\n",
    "\tdf = df[df.iloc[:, 1] == 1] # Extract only competitors in event\n",
    "\tdf = df.sample(frac = 1) # Randomize groups\n",
    "\tn = len(df) # Number of competitors in event\n",
    "\tnum_g = int(np.round(n / float(g_size))) # Number of groups\n",
    "\tif list(df)[1] in ['333fm', '333mbf', '444bf', '555bf']:\n",
    "\t\t# For long events, only 1 group\n",
    "\t\tgroup = np.ones(n).astype(int)\n",
    "\telse:\n",
    "\t\tgroup = np.arange(n) * num_g / n + 1\n",
    "\tdf['Group'] = group.astype(str) # Append column formatted as a string\n",
    "\treturn df_old.merge(df, how = 'left').fillna('') # Return merged groups with old DataFrame, filling blanks with an empty string\n",
    "\n",
    "def make_groups(df):\n",
    "\tgroup_df = df[['index', 'Name']].copy()\n",
    "\t# Iterate through columns of registration file to calculate groups for each event\n",
    "\tfor i in list(df)[7:-3]:\n",
    "\t\tg_num = event_group(df[['Name', i]])['Group'].map(str)\n",
    "\t\tgroup_df[i] = g_num\n",
    "\treturn group_df"
   ]
  }
 ],
 "metadata": {
  "kernelspec": {
   "display_name": "Python 3",
   "language": "python",
   "name": "python3"
  },
  "language_info": {
   "codemirror_mode": {
    "name": "ipython",
    "version": 3
   },
   "file_extension": ".py",
   "mimetype": "text/x-python",
   "name": "python",
   "nbconvert_exporter": "python",
   "pygments_lexer": "ipython3",
   "version": "3.6.9"
  }
 },
 "nbformat": 4,
 "nbformat_minor": 2
}
